{
 "cells": [
  {
   "cell_type": "markdown",
   "metadata": {},
   "source": [
    "## Questão 1"
   ]
  },
  {
   "cell_type": "code",
   "execution_count": 1,
   "metadata": {},
   "outputs": [],
   "source": [
    "import numpy as np"
   ]
  },
  {
   "cell_type": "code",
   "execution_count": 2,
   "metadata": {},
   "outputs": [],
   "source": [
    "def multiple_abc(nums: np.array, a, b, c) -> int:\n",
    "    return ((nums % a == 0) & (nums % b == 0) & (nums % c == 0)).sum()"
   ]
  },
  {
   "cell_type": "code",
   "execution_count": 3,
   "metadata": {},
   "outputs": [],
   "source": [
    "nums = np.array([i for i in range(1, 5_000_000 + 1)])"
   ]
  },
  {
   "cell_type": "code",
   "execution_count": 4,
   "metadata": {},
   "outputs": [
    {
     "name": "stdout",
     "output_type": "stream",
     "text": [
      "Número de pares, múltiplos de 37 e de 49 em [1, 5e6]: 1378\n"
     ]
    }
   ],
   "source": [
    "multiples = multiple_abc(nums, 2, 37, 49)\n",
    "print(f'Número de pares, múltiplos de 37 e de 49 em [1, 5e6]: {multiples}')"
   ]
  },
  {
   "cell_type": "markdown",
   "metadata": {},
   "source": [
    "## Questão 2"
   ]
  },
  {
   "cell_type": "code",
   "execution_count": 5,
   "metadata": {},
   "outputs": [],
   "source": [
    "# a função fatorial será vetorizada\n",
    "from math import factorial\n",
    "vec_factorial = np.vectorize(factorial)"
   ]
  },
  {
   "cell_type": "code",
   "execution_count": 6,
   "metadata": {},
   "outputs": [],
   "source": [
    "indexes = np.array(range(10))\n",
    "x = np.zeros(10)"
   ]
  },
  {
   "cell_type": "code",
   "execution_count": 7,
   "metadata": {},
   "outputs": [],
   "source": [
    "even = indexes % 2 == 0\n",
    "odd = indexes % 2 == 1\n",
    "x[even] = 3 ** indexes[even] + 7 * vec_factorial(indexes[even])\n",
    "x[odd] = 2 ** indexes[odd] + 4 * np.log(indexes[odd])"
   ]
  },
  {
   "cell_type": "code",
   "execution_count": 36,
   "metadata": {},
   "outputs": [
    {
     "name": "stdout",
     "output_type": "stream",
     "text": [
      "A posição do maior elemento é a posição 8 e a média dos elementos é 29555.94\n"
     ]
    }
   ],
   "source": [
    "print(f'A posição do maior elemento é a posição {x.argmax()} e a média dos elementos é {round(x.mean(), 2)}')"
   ]
  },
  {
   "cell_type": "markdown",
   "metadata": {},
   "source": [
    "## Questão 3"
   ]
  },
  {
   "cell_type": "code",
   "execution_count": 10,
   "metadata": {},
   "outputs": [],
   "source": [
    "# assumindo que a entrada são duas listas (list<string> nomes, list<float> notas)\n",
    "# e que nomes[i] -> notas[i] \n",
    "def coalesce_data(nomes, notas):\n",
    "    return dict(zip(nomes, notas))"
   ]
  },
  {
   "cell_type": "code",
   "execution_count": 12,
   "metadata": {},
   "outputs": [],
   "source": [
    "# ex:\n",
    "names = ['João', 'Maria', 'José', 'André', 'Helena']\n",
    "rng = np.random.default_rng()\n",
    "grades = list(10.0 * rng.random((5,)))\n",
    "data = coalesce_data(names, grades)"
   ]
  },
  {
   "cell_type": "code",
   "execution_count": 34,
   "metadata": {},
   "outputs": [],
   "source": [
    "# algoritmo, dado os dados em dict\n",
    "values = list(data.values())\n",
    "keys = list(data.keys())\n",
    "largest_grade_arg = np.argmax(values)\n",
    "largest_grade = values[largest_grade_arg]\n",
    "largest_grade_name = keys[largest_grade_arg]"
   ]
  },
  {
   "cell_type": "code",
   "execution_count": 35,
   "metadata": {},
   "outputs": [
    {
     "name": "stdout",
     "output_type": "stream",
     "text": [
      "A maior nota (6.26) é do(a) aluno(a) José\n"
     ]
    }
   ],
   "source": [
    "print(f'A maior nota ({round(largest_grade, 2)}) é do(a) aluno(a) {largest_grade_name}')"
   ]
  }
 ],
 "metadata": {
  "interpreter": {
   "hash": "795d9ba8b2b2dc3c3bc20debe9a872e831af027466dd6273657346da4f30f9f1"
  },
  "kernelspec": {
   "display_name": "Python 3.8.10 64-bit ('env': venv)",
   "language": "python",
   "name": "python3"
  },
  "language_info": {
   "codemirror_mode": {
    "name": "ipython",
    "version": 3
   },
   "file_extension": ".py",
   "mimetype": "text/x-python",
   "name": "python",
   "nbconvert_exporter": "python",
   "pygments_lexer": "ipython3",
   "version": "3.8.10"
  },
  "orig_nbformat": 4
 },
 "nbformat": 4,
 "nbformat_minor": 2
}
